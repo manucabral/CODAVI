{
 "cells": [
  {
   "cell_type": "code",
   "execution_count": 1,
   "metadata": {},
   "outputs": [],
   "source": [
    "import pandas as pd\n",
    "import matplotlib.pyplot as plt"
   ]
  },
  {
   "cell_type": "code",
   "execution_count": 2,
   "metadata": {},
   "outputs": [],
   "source": [
    "# Obtiene las solamente las columnas orden_dosis y grupo_etario del dataset.\n",
    "columnas = ['orden_dosis', 'grupo_etario']\n",
    "try:\n",
    "    data = pd.read_csv('../datos_nomivac_covid19.csv', usecols = columnas, skipinitialspace = True)\n",
    "except Exception as Error:\n",
    "    print('Hubo un error al leer el dataset', Error)"
   ]
  },
  {
   "cell_type": "code",
   "execution_count": 3,
   "metadata": {},
   "outputs": [],
   "source": [
    "# Obtenemos solamente la primera dosis de cada grupo etario y cada grupo etario\n",
    "primeraDosis = data.query('orden_dosis == 1')\n",
    "primeraEdad = primeraDosis.query('grupo_etario == \"18-29\"')\n",
    "segundaEdad = primeraDosis.query('grupo_etario == \"30-39\"')\n",
    "terceraEdad = primeraDosis.query('grupo_etario == \"40-49\"')\n",
    "cuartaEdad = primeraDosis.query('grupo_etario == \"50-59\"')\n",
    "quintaEdad = primeraDosis.query('grupo_etario == \"60-69\"')"
   ]
  },
  {
   "cell_type": "code",
   "execution_count": 4,
   "metadata": {},
   "outputs": [],
   "source": [
    "# Contamos la cantidad de personas vacunadas de cada grupo etario.\n",
    "c_primeraEdad = primeraEdad['orden_dosis'].count()\n",
    "c_segundaEdad = segundaEdad['orden_dosis'].count()\n",
    "c_terceraEdad = terceraEdad['orden_dosis'].count()\n",
    "c_cuartaEdad = cuartaEdad['orden_dosis'].count()\n",
    "c_quintaEdad = quintaEdad['orden_dosis'].count()"
   ]
  },
  {
   "cell_type": "code",
   "execution_count": 5,
   "metadata": {},
   "outputs": [
    {
     "data": {
      "text/plain": [
       "Text(0.5, 1.0, 'Personas Vacunadas Dosis 1')"
      ]
     },
     "execution_count": 5,
     "metadata": {},
     "output_type": "execute_result"
    },
    {
     "data": {
      "image/png": "[encoded data removed]",
      "text/plain": [
       "<Figure size 432x288 with 1 Axes>"
      ]
     },
     "metadata": {
      "needs_background": "light"
     },
     "output_type": "display_data"
    }
   ],
   "source": [
    "# Creamos la gráfica de barras\n",
    "x = ['18-29', '30-39', '40-49', '50-59', '60-69']\n",
    "y = [c_primeraEdad, c_segundaEdad, c_terceraEdad, c_cuartaEdad, c_quintaEdad]\n",
    "plt.bar(x, y, color='green')\n",
    "plt.ylabel('Cantidad')\n",
    "plt.xlabel('Grupo etario')\n",
    "plt.title('Personas Vacunadas Dosis 1')"
   ]
  }
 ],
 "metadata": {
  "interpreter": {
   "hash": "a86ff4ae3ee3a1b21f325b1ece796c8b39c5652a82900a8a39a5348e73740373"
  },
  "kernelspec": {
   "display_name": "Python 3.9.1 64-bit",
   "name": "python3"
  },
  "language_info": {
   "codemirror_mode": {
    "name": "ipython",
    "version": 3
   },
   "file_extension": ".py",
   "mimetype": "text/x-python",
   "name": "python",
   "nbconvert_exporter": "python",
   "pygments_lexer": "ipython3",
   "version": "3.9.1"
  }
 },
 "nbformat": 4,
 "nbformat_minor": 5
}
