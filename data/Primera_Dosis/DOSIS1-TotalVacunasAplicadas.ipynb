{
 "cells": [
  {
   "cell_type": "code",
   "execution_count": 1,
   "metadata": {},
   "outputs": [],
   "source": [
    "import locale\n",
    "import pandas as pd"
   ]
  },
  {
   "cell_type": "code",
   "execution_count": 2,
   "metadata": {},
   "outputs": [],
   "source": [
    "try:\n",
    "    url = 'https://sisa.msal.gov.ar/datos/descargas/covid-19/files/Covid19VacunasAgrupadas.csv.zip'\n",
    "    data = pd.read_csv(url)\n",
    "except Exception as Error:\n",
    "    print('Hubo un error al leer el dataset', Error)"
   ]
  },
  {
   "cell_type": "code",
   "execution_count": 3,
   "metadata": {},
   "outputs": [
    {
     "name": "stdout",
     "output_type": "stream",
     "text": [
      "Total en la primera dosis: 34,552,969\n"
     ]
    }
   ],
   "source": [
    "sputnik = data.query('vacuna_nombre.str.contains(\"Sputnik\")').primera_dosis_cantidad.sum()\n",
    "astrazeneca = data.query('vacuna_nombre.str.contains(\"AstraZeneca\")').primera_dosis_cantidad.sum()\n",
    "sinopharm = data.query('vacuna_nombre.str.contains(\"Sinopharm\")').primera_dosis_cantidad.sum()\n",
    "covishield = data.query('vacuna_nombre.str.contains(\"COVISHIELD\")').primera_dosis_cantidad.sum()\n",
    "moderna = data.query('vacuna_nombre.str.contains(\"Moderna\")').primera_dosis_cantidad.sum()\n",
    "\n",
    "total = sputnik + astrazeneca + sinopharm + covishield + moderna\n",
    "print(f'Total en la primera dosis: {total:,}')"
   ]
  }
 ],
 "metadata": {
  "interpreter": {
   "hash": "a86ff4ae3ee3a1b21f325b1ece796c8b39c5652a82900a8a39a5348e73740373"
  },
  "kernelspec": {
   "display_name": "Python 3.9.1 64-bit",
   "name": "python3"
  },
  "language_info": {
   "codemirror_mode": {
    "name": "ipython",
    "version": 3
   },
   "file_extension": ".py",
   "mimetype": "text/x-python",
   "name": "python",
   "nbconvert_exporter": "python",
   "pygments_lexer": "ipython3",
   "version": "3.9.1"
  },
  "orig_nbformat": 4
 },
 "nbformat": 4,
 "nbformat_minor": 2
}
