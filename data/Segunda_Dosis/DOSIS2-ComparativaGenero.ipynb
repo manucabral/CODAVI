{
 "cells": [
  {
   "cell_type": "code",
   "execution_count": 1,
   "metadata": {},
   "outputs": [],
   "source": [
    "import pandas as pd\n",
    "import matplotlib.pyplot as plt"
   ]
  },
  {
   "cell_type": "code",
   "execution_count": 2,
   "metadata": {},
   "outputs": [],
   "source": [
    "# Obtiene solamente las columnas orden_dosis y sexo del dataset.\n",
    "columnas = ['orden_dosis', 'sexo']\n",
    "try:\n",
    "    data = pd.read_csv('../datos_nomivac_covid19.csv', usecols = columnas)\n",
    "except Exception as Error:\n",
    "    print('Hubo un error al leer el dataset', Error)"
   ]
  },
  {
   "cell_type": "code",
   "execution_count": 3,
   "metadata": {},
   "outputs": [],
   "source": [
    "# Obtenemos solamente la segunda dosis y separamos los sexos.\n",
    "masculinos = data.query('orden_dosis == 2 and sexo == \"M\"')\n",
    "femeninos = data.query('orden_dosis == 2 and sexo == \"F\"')"
   ]
  },
  {
   "cell_type": "code",
   "execution_count": 4,
   "metadata": {},
   "outputs": [],
   "source": [
    "# Cuenta el total de vacunados de cada sexo.\n",
    "total_masculinos = masculinos['sexo'].count()\n",
    "total_femeninos = femeninos['sexo'].count()"
   ]
  },
  {
   "cell_type": "code",
   "execution_count": 5,
   "metadata": {},
   "outputs": [],
   "source": [
    "# Configuramos la información para la comparativa.\n",
    "texto = ['Masculino', 'Femenino']\n",
    "cantidad = [total_masculinos, total_femeninos]\n",
    "colores = ['blue', 'red']"
   ]
  },
  {
   "cell_type": "code",
   "execution_count": 6,
   "metadata": {},
   "outputs": [
    {
     "data": {
      "image/png": "[encoded data removed]",
      "text/plain": [
       "<Figure size 432x288 with 1 Axes>"
      ]
     },
     "metadata": {},
     "output_type": "display_data"
    }
   ],
   "source": [
    "# Creamos el gráfico y lo mostramos en un gráfico circular.\n",
    "fig, ax2 = plt.subplots()\n",
    "ax2.pie(cantidad, labels=texto, autopct='%1.2f%%', startangle=180, colors=colores)\n",
    "ax2.axis('equal')\n",
    "plt.show()"
   ]
  }
 ],
 "metadata": {
  "interpreter": {
   "hash": "a86ff4ae3ee3a1b21f325b1ece796c8b39c5652a82900a8a39a5348e73740373"
  },
  "kernelspec": {
   "display_name": "Python 3.9.1 64-bit",
   "name": "python3"
  },
  "language_info": {
   "codemirror_mode": {
    "name": "ipython",
    "version": 3
   },
   "file_extension": ".py",
   "mimetype": "text/x-python",
   "name": "python",
   "nbconvert_exporter": "python",
   "pygments_lexer": "ipython3",
   "version": "3.9.1"
  }
 },
 "nbformat": 4,
 "nbformat_minor": 5
}
